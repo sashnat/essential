{
 "cells": [
  {
   "cell_type": "markdown",
   "metadata": {},
   "source": [
    "----------------returns_generator---------------"
   ]
  },
  {
   "cell_type": "code",
   "execution_count": 1,
   "metadata": {
    "collapsed": false
   },
   "outputs": [
    {
     "name": "stdout",
     "output_type": "stream",
     "text": [
      "0\n1\n4\n"
     ]
    }
   ],
   "source": [
    "# https://habr.com/post/132554/\n",
    "# когда вы вызываете функцию, код внутри тела функции не исполняется. Функция только возвращает объект-генератор\n",
    "# код будет вызываться каждый раз, когда for обращается к генератору\n",
    "# Генераторы это тоже итерируемые объекты (как и списки), но прочитать их можно лишь один раз.\n",
    "# Это связано с тем, что они не хранят значения в памяти, а генерируют их на лету:\n",
    "def createGenerator():\n",
    "    mylist = range(3)\n",
    "    for i in mylist :\n",
    "       yield i*i\n",
    "mygenerator = createGenerator()\n",
    "for i in mygenerator:\n",
    "    print (i)\n"
   ]
  },
  {
   "cell_type": "markdown",
   "metadata": {},
   "source": [
    "----------------returns only first value----------------------"
   ]
  },
  {
   "cell_type": "code",
   "execution_count": 2,
   "metadata": {
    "collapsed": false
   },
   "outputs": [
    {
     "name": "stdout",
     "output_type": "stream",
     "text": [
      "not for yield: 0\n"
     ]
    }
   ],
   "source": [
    "def create():\n",
    "    mylist1 = range(3)\n",
    "    for i in mylist1 :\n",
    "       return i*i\n",
    "    \n",
    "print (\"not for yield:\", create())"
   ]
  }
 ],
 "metadata": {
  "kernelspec": {
   "display_name": "Python 2",
   "language": "python",
   "name": "python2"
  },
  "language_info": {
   "codemirror_mode": {
    "name": "ipython",
    "version": 2
   },
   "file_extension": ".py",
   "mimetype": "text/x-python",
   "name": "python",
   "nbconvert_exporter": "python",
   "pygments_lexer": "ipython2",
   "version": "2.7.6"
  }
 },
 "nbformat": 4,
 "nbformat_minor": 0
}
